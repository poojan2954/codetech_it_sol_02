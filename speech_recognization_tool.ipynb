{
 "cells": [
  {
   "cell_type": "code",
   "execution_count": 2,
   "id": "cd05fe1a-5590-4d35-80a0-2ba71297e182",
   "metadata": {},
   "outputs": [
    {
     "name": "stdout",
     "output_type": "stream",
     "text": [
      "Collecting SpeechRecognition\n",
      "  Downloading SpeechRecognition-3.14.1-py3-none-any.whl.metadata (31 kB)\n",
      "Collecting pydub\n",
      "  Downloading pydub-0.25.1-py2.py3-none-any.whl.metadata (1.4 kB)\n",
      "Requirement already satisfied: typing-extensions in c:\\users\\poojan\\anaconda3\\lib\\site-packages (from SpeechRecognition) (4.11.0)\n",
      "Downloading SpeechRecognition-3.14.1-py3-none-any.whl (32.9 MB)\n",
      "   ---------------------------------------- 0.0/32.9 MB ? eta -:--:--\n",
      "   ----- ---------------------------------- 4.7/32.9 MB 31.6 MB/s eta 0:00:01\n",
      "   ------------- -------------------------- 11.3/32.9 MB 30.7 MB/s eta 0:00:01\n",
      "   ---------------- ----------------------- 13.6/32.9 MB 25.2 MB/s eta 0:00:01\n",
      "   ----------------- ---------------------- 14.2/32.9 MB 19.3 MB/s eta 0:00:01\n",
      "   ----------------- ---------------------- 14.4/32.9 MB 15.6 MB/s eta 0:00:02\n",
      "   ----------------- ---------------------- 14.7/32.9 MB 13.6 MB/s eta 0:00:02\n",
      "   ------------------ --------------------- 15.2/32.9 MB 11.3 MB/s eta 0:00:02\n",
      "   ------------------- -------------------- 15.7/32.9 MB 9.9 MB/s eta 0:00:02\n",
      "   ------------------- -------------------- 16.3/32.9 MB 9.1 MB/s eta 0:00:02\n",
      "   -------------------- ------------------- 17.0/32.9 MB 8.3 MB/s eta 0:00:02\n",
      "   --------------------- ------------------ 17.6/32.9 MB 7.9 MB/s eta 0:00:02\n",
      "   ---------------------- ----------------- 18.4/32.9 MB 7.5 MB/s eta 0:00:02\n",
      "   ----------------------- ---------------- 19.1/32.9 MB 7.2 MB/s eta 0:00:02\n",
      "   ------------------------ --------------- 19.9/32.9 MB 7.0 MB/s eta 0:00:02\n",
      "   ------------------------- -------------- 20.7/32.9 MB 6.8 MB/s eta 0:00:02\n",
      "   -------------------------- ------------- 21.8/32.9 MB 6.6 MB/s eta 0:00:02\n",
      "   --------------------------- ------------ 22.5/32.9 MB 6.5 MB/s eta 0:00:02\n",
      "   ---------------------------- ----------- 23.6/32.9 MB 6.4 MB/s eta 0:00:02\n",
      "   ------------------------------ --------- 24.6/32.9 MB 6.3 MB/s eta 0:00:02\n",
      "   ------------------------------- -------- 25.7/32.9 MB 6.3 MB/s eta 0:00:02\n",
      "   -------------------------------- ------- 27.0/32.9 MB 6.3 MB/s eta 0:00:01\n",
      "   ---------------------------------- ----- 28.3/32.9 MB 6.3 MB/s eta 0:00:01\n",
      "   ------------------------------------ --- 29.6/32.9 MB 6.2 MB/s eta 0:00:01\n",
      "   ------------------------------------- -- 30.9/32.9 MB 6.3 MB/s eta 0:00:01\n",
      "   ---------------------------------------  32.2/32.9 MB 6.3 MB/s eta 0:00:01\n",
      "   ---------------------------------------- 32.9/32.9 MB 6.1 MB/s eta 0:00:00\n",
      "Downloading pydub-0.25.1-py2.py3-none-any.whl (32 kB)\n",
      "Installing collected packages: pydub, SpeechRecognition\n",
      "Successfully installed SpeechRecognition-3.14.1 pydub-0.25.1\n"
     ]
    }
   ],
   "source": [
    "!pip install SpeechRecognition pydub\n"
   ]
  },
  {
   "cell_type": "code",
   "execution_count": 4,
   "id": "994cdd3f-91dc-4301-afab-4cbdb12961cb",
   "metadata": {},
   "outputs": [],
   "source": [
    "import speech_recognition as sr"
   ]
  },
  {
   "cell_type": "code",
   "execution_count": 6,
   "id": "0cb35621-af0d-4c9f-9819-d7b64cbe5142",
   "metadata": {},
   "outputs": [],
   "source": [
    "def speech_to_text(filename):\n",
    "    recognizer = sr.Recognizer()\n",
    "    \n",
    "    # Load the audio file\n",
    "    with sr.AudioFile(filename) as source:\n",
    "        print(\"Processing audio...\")\n",
    "        audio_data = recognizer.record(source)\n",
    "    \n",
    "    try:\n",
    "        text = recognizer.recognize_google(audio_data)\n",
    "        return text\n",
    "    except sr.UnknownValueError:\n",
    "        return \"Speech Recognition could not understand the audio\"\n",
    "    except sr.RequestError:\n",
    "        return \"Could not request results from Google Speech Recognition service\""
   ]
  },
  {
   "cell_type": "code",
   "execution_count": 18,
   "id": "40f4a00a-0515-4dc8-970d-6a61712f7bbc",
   "metadata": {},
   "outputs": [
    {
     "name": "stdout",
     "output_type": "stream",
     "text": [
      "Processing audio...\n",
      "Transcription: http current 441 / www\n"
     ]
    }
   ],
   "source": [
    "audio_file = \"sample.wav\" \n",
    "result = speech_to_text(audio_file)\n",
    "print(\"Transcription:\", result)"
   ]
  },
  {
   "cell_type": "code",
   "execution_count": null,
   "id": "01534d8a-33d1-4839-8e10-320777df8884",
   "metadata": {},
   "outputs": [],
   "source": []
  }
 ],
 "metadata": {
  "kernelspec": {
   "display_name": "Python 3 (ipykernel)",
   "language": "python",
   "name": "python3"
  },
  "language_info": {
   "codemirror_mode": {
    "name": "ipython",
    "version": 3
   },
   "file_extension": ".py",
   "mimetype": "text/x-python",
   "name": "python",
   "nbconvert_exporter": "python",
   "pygments_lexer": "ipython3",
   "version": "3.12.7"
  }
 },
 "nbformat": 4,
 "nbformat_minor": 5
}
